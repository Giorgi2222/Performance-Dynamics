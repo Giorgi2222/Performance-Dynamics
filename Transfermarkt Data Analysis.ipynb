{
 "cells": [
  {
   "cell_type": "markdown",
   "id": "83f2683c",
   "metadata": {},
   "source": [
    "### First, we start by importing useful libraries and data"
   ]
  },
  {
   "cell_type": "code",
   "execution_count": 1,
   "id": "eb8611f5",
   "metadata": {},
   "outputs": [
    {
     "name": "stdout",
     "output_type": "stream",
     "text": [
      "         date    datetime    dateweek  player_id  current_club_id  \\\n",
      "0  2013-08-07  2013-08-07  2013-08-05      99946             1095   \n",
      "1  2014-01-13  2014-01-13  2014-01-13      99946             1095   \n",
      "2  2010-01-29  2010-01-29  2010-01-25      76948              979   \n",
      "3  2010-08-20  2010-08-20  2010-08-16      76948              979   \n",
      "4  2011-01-17  2011-01-17  2011-01-17      76948              979   \n",
      "\n",
      "   market_value_in_eur player_club_domestic_competition_id  \n",
      "0               150000                                 FR1  \n",
      "1               100000                                 FR1  \n",
      "2               125000                                 PO1  \n",
      "3               250000                                 PO1  \n",
      "4               350000                                 PO1  \n"
     ]
    }
   ],
   "source": [
    "import pandas as pd\n",
    "import numpy as np\n",
    "\n",
    "# Read CSV file\n",
    "data = pd.read_csv('player_valuations.csv')\n",
    "\n",
    "# Print first 5 rows of data\n",
    "print(data.head())"
   ]
  },
  {
   "cell_type": "markdown",
   "id": "eead1025",
   "metadata": {},
   "source": [
    "### Next, we convert data to a more convenient form for future analysis"
   ]
  },
  {
   "cell_type": "code",
   "execution_count": 2,
   "id": "f697aec5",
   "metadata": {},
   "outputs": [
    {
     "name": "stderr",
     "output_type": "stream",
     "text": [
      "C:\\Users\\giorgi\\AppData\\Local\\Temp\\ipykernel_8516\\1449010294.py:11: FutureWarning: In a future version of pandas, a length 1 tuple will be returned when iterating over a groupby with a grouper equal to a list of length 1. Don't supply a list with a single grouper to avoid this warning.\n",
      "  for group_id, group_data in grouped_data:\n"
     ]
    },
    {
     "name": "stdout",
     "output_type": "stream",
     "text": [
      "  player_id  year     price\n",
      "0        10  2004   7000000\n",
      "1        10  2005   9000000\n",
      "2        10  2006  20000000\n",
      "3        10  2007  23000000\n",
      "4        10  2008  20000000\n"
     ]
    }
   ],
   "source": [
    "# Convert date column to datetime format\n",
    "data['date'] = pd.to_datetime(data['date'])\n",
    "\n",
    "# Create an empty DataFrame to store the new data\n",
    "new_data = pd.DataFrame(columns=['player_id', 'year', 'price'])\n",
    "\n",
    "# Group data by player ID\n",
    "grouped_data = data.groupby(['player_id'])\n",
    "\n",
    "# Loop over each group of data\n",
    "for group_id, group_data in grouped_data:\n",
    "\n",
    "    # Sort data by date\n",
    "    group_data = group_data.sort_values(by='date')\n",
    "    \n",
    "    # Get the minimum and maximum years for the player\n",
    "    min_year = group_data['date'].dt.year.min()\n",
    "    max_year = group_data['date'].dt.year.max()\n",
    "    \n",
    "    # Loop over each year for the player\n",
    "    for year in range(min_year, max_year+1):\n",
    "        \n",
    "        # Get the price for the year\n",
    "        try:\n",
    "            price = group_data[group_data['date'].dt.year == year]['market_value_in_eur'].values[0]\n",
    "        except IndexError:\n",
    "            price = None\n",
    "        \n",
    "        # Add a new row to the new DataFrame\n",
    "        new_row = {'player_id': group_id,\n",
    "                   'year': year,\n",
    "                   'price': price}\n",
    "        \n",
    "        # Convert the dictionary to a DataFrame\n",
    "        new_row_df = pd.DataFrame([new_row])\n",
    "\n",
    "        # Concatenate the new row to the new_data DataFrame\n",
    "        new_data = pd.concat([new_data, new_row_df], ignore_index=True)\n",
    "        \n",
    "# Print the new DataFrame\n",
    "print(new_data.head())\n",
    "\n",
    "# Save new DataFrame\n",
    "new_data.to_csv('new_data.csv', index=False)"
   ]
  },
  {
   "cell_type": "markdown",
   "id": "0e944de0",
   "metadata": {},
   "source": [
    "### Now we will extract birth year data"
   ]
  },
  {
   "cell_type": "code",
   "execution_count": 3,
   "id": "18a3d5e8",
   "metadata": {},
   "outputs": [],
   "source": [
    "# load information about players to get their birth years\n",
    "player_data = pd.read_csv('players.csv')\n",
    "\n",
    "# Convert date column to datetime format\n",
    "player_data['date_of_birth'] = pd.to_datetime(player_data['date_of_birth'])\n",
    "# Extract player IDs and birth years\n",
    "ids = []\n",
    "birth_years = []\n",
    "for index, row in player_data.iterrows():\n",
    "    player_id = row['player_id']\n",
    "    birth_year = row['date_of_birth'].year\n",
    "    if player_id not in ids and birth_year != None:\n",
    "        ids.append(player_id)\n",
    "        birth_years.append(birth_year)\n",
    "\n",
    "# Create a new DataFrame with the extracted data\n",
    "birth_years = pd.DataFrame({'player_id': ids, 'birth_year': birth_years})"
   ]
  },
  {
   "cell_type": "markdown",
   "id": "5278f436",
   "metadata": {},
   "source": [
    "### Using birth year data we group data points by the ages of players at the time of measurement"
   ]
  },
  {
   "cell_type": "code",
   "execution_count": 4,
   "id": "f65e76be",
   "metadata": {},
   "outputs": [],
   "source": [
    "# load new_data DataFrame\n",
    "df =  pd.read_csv('new_data.csv')\n",
    "temp = np.arange(10, 50)\n",
    "\n",
    "# Create dictionary to store prices for each age group\n",
    "ages = {i: [] for i in temp}\n",
    "for index, row in df.iterrows():\n",
    "    \n",
    "    age = row['year'] - birth_years.loc[birth_years['player_id'] == row['player_id'], 'birth_year'].values[0]\n",
    "    if age in temp and row['price'] > 0:\n",
    "        ages[age].append(row['price'])"
   ]
  },
  {
   "cell_type": "markdown",
   "id": "f34d9ca7",
   "metadata": {},
   "source": [
    "### We finish preparing data by computing percentiles and dividing data into features and labels"
   ]
  },
  {
   "cell_type": "code",
   "execution_count": 5,
   "id": "bbffc9cb",
   "metadata": {},
   "outputs": [],
   "source": [
    "from scipy.stats import percentileofscore\n",
    "        \n",
    "df['percentile'] = ''\n",
    "for index, row in df.iterrows():\n",
    "    age = row['year'] - birth_years.loc[birth_years['player_id'] == row['player_id'], 'birth_year'].values[0]\n",
    "    if age in temp and row['price'] > 0:  \n",
    "        df.loc[index, 'percentile'] = percentileofscore(ages[age], row['price'])\n",
    "\n",
    "\n",
    "df.to_csv('percentiles.csv', index=False)\n",
    "\n",
    "df =  pd.read_csv('percentiles.csv')\n",
    "x = np.empty((0, 4))\n",
    "y = np.empty((0, 1))\n",
    "id_ = df.iloc[0]['player_id'] \n",
    "count = 0 \n",
    "short_list = np.zeros(5)\n",
    "for index, row in df.iterrows():\n",
    "    if id_ ==  row['player_id'] and count < 5 and row['percentile']:\n",
    "        short_list[count] = row['percentile']\n",
    "        count += 1\n",
    "    elif count == 5 and np.all(short_list > 0):\n",
    "        x = np.vstack([x, [short_list[0], short_list[1], short_list[2], short_list[3]]])\n",
    "        y = np.vstack([y, [short_list[4]]])\n",
    "        count = 0 \n",
    "        id_ = row['player_id']\n",
    "    else:\n",
    "        id_ = row['player_id']\n",
    "        count = 0"
   ]
  },
  {
   "cell_type": "markdown",
   "id": "f2d617b9",
   "metadata": {},
   "source": [
    "### Finally, we train the machine learning model"
   ]
  },
  {
   "cell_type": "code",
   "execution_count": 44,
   "id": "161b91fc",
   "metadata": {
    "scrolled": true
   },
   "outputs": [
    {
     "data": {
      "text/html": [
       "<style>#sk-container-id-3 {color: black;background-color: white;}#sk-container-id-3 pre{padding: 0;}#sk-container-id-3 div.sk-toggleable {background-color: white;}#sk-container-id-3 label.sk-toggleable__label {cursor: pointer;display: block;width: 100%;margin-bottom: 0;padding: 0.3em;box-sizing: border-box;text-align: center;}#sk-container-id-3 label.sk-toggleable__label-arrow:before {content: \"▸\";float: left;margin-right: 0.25em;color: #696969;}#sk-container-id-3 label.sk-toggleable__label-arrow:hover:before {color: black;}#sk-container-id-3 div.sk-estimator:hover label.sk-toggleable__label-arrow:before {color: black;}#sk-container-id-3 div.sk-toggleable__content {max-height: 0;max-width: 0;overflow: hidden;text-align: left;background-color: #f0f8ff;}#sk-container-id-3 div.sk-toggleable__content pre {margin: 0.2em;color: black;border-radius: 0.25em;background-color: #f0f8ff;}#sk-container-id-3 input.sk-toggleable__control:checked~div.sk-toggleable__content {max-height: 200px;max-width: 100%;overflow: auto;}#sk-container-id-3 input.sk-toggleable__control:checked~label.sk-toggleable__label-arrow:before {content: \"▾\";}#sk-container-id-3 div.sk-estimator input.sk-toggleable__control:checked~label.sk-toggleable__label {background-color: #d4ebff;}#sk-container-id-3 div.sk-label input.sk-toggleable__control:checked~label.sk-toggleable__label {background-color: #d4ebff;}#sk-container-id-3 input.sk-hidden--visually {border: 0;clip: rect(1px 1px 1px 1px);clip: rect(1px, 1px, 1px, 1px);height: 1px;margin: -1px;overflow: hidden;padding: 0;position: absolute;width: 1px;}#sk-container-id-3 div.sk-estimator {font-family: monospace;background-color: #f0f8ff;border: 1px dotted black;border-radius: 0.25em;box-sizing: border-box;margin-bottom: 0.5em;}#sk-container-id-3 div.sk-estimator:hover {background-color: #d4ebff;}#sk-container-id-3 div.sk-parallel-item::after {content: \"\";width: 100%;border-bottom: 1px solid gray;flex-grow: 1;}#sk-container-id-3 div.sk-label:hover label.sk-toggleable__label {background-color: #d4ebff;}#sk-container-id-3 div.sk-serial::before {content: \"\";position: absolute;border-left: 1px solid gray;box-sizing: border-box;top: 0;bottom: 0;left: 50%;z-index: 0;}#sk-container-id-3 div.sk-serial {display: flex;flex-direction: column;align-items: center;background-color: white;padding-right: 0.2em;padding-left: 0.2em;position: relative;}#sk-container-id-3 div.sk-item {position: relative;z-index: 1;}#sk-container-id-3 div.sk-parallel {display: flex;align-items: stretch;justify-content: center;background-color: white;position: relative;}#sk-container-id-3 div.sk-item::before, #sk-container-id-3 div.sk-parallel-item::before {content: \"\";position: absolute;border-left: 1px solid gray;box-sizing: border-box;top: 0;bottom: 0;left: 50%;z-index: -1;}#sk-container-id-3 div.sk-parallel-item {display: flex;flex-direction: column;z-index: 1;position: relative;background-color: white;}#sk-container-id-3 div.sk-parallel-item:first-child::after {align-self: flex-end;width: 50%;}#sk-container-id-3 div.sk-parallel-item:last-child::after {align-self: flex-start;width: 50%;}#sk-container-id-3 div.sk-parallel-item:only-child::after {width: 0;}#sk-container-id-3 div.sk-dashed-wrapped {border: 1px dashed gray;margin: 0 0.4em 0.5em 0.4em;box-sizing: border-box;padding-bottom: 0.4em;background-color: white;}#sk-container-id-3 div.sk-label label {font-family: monospace;font-weight: bold;display: inline-block;line-height: 1.2em;}#sk-container-id-3 div.sk-label-container {text-align: center;}#sk-container-id-3 div.sk-container {/* jupyter's `normalize.less` sets `[hidden] { display: none; }` but bootstrap.min.css set `[hidden] { display: none !important; }` so we also need the `!important` here to be able to override the default hidden behavior on the sphinx rendered scikit-learn.org. See: https://github.com/scikit-learn/scikit-learn/issues/21755 */display: inline-block !important;position: relative;}#sk-container-id-3 div.sk-text-repr-fallback {display: none;}</style><div id=\"sk-container-id-3\" class=\"sk-top-container\"><div class=\"sk-text-repr-fallback\"><pre>LinearRegression()</pre><b>In a Jupyter environment, please rerun this cell to show the HTML representation or trust the notebook. <br />On GitHub, the HTML representation is unable to render, please try loading this page with nbviewer.org.</b></div><div class=\"sk-container\" hidden><div class=\"sk-item\"><div class=\"sk-estimator sk-toggleable\"><input class=\"sk-toggleable__control sk-hidden--visually\" id=\"sk-estimator-id-3\" type=\"checkbox\" checked><label for=\"sk-estimator-id-3\" class=\"sk-toggleable__label sk-toggleable__label-arrow\">LinearRegression</label><div class=\"sk-toggleable__content\"><pre>LinearRegression()</pre></div></div></div></div></div>"
      ],
      "text/plain": [
       "LinearRegression()"
      ]
     },
     "execution_count": 44,
     "metadata": {},
     "output_type": "execute_result"
    }
   ],
   "source": [
    "from sklearn.model_selection import train_test_split\n",
    "from sklearn.linear_model import LinearRegression\n",
    "\n",
    "x_train, x_test, y_train, y_test = train_test_split(x, y, test_size=0.2, random_state=42)\n",
    "\n",
    "# Initialize the LinearRegression model\n",
    "model = LinearRegression()\n",
    "\n",
    "# Train the model on the training data\n",
    "model.fit(x_train, y_train)"
   ]
  },
  {
   "cell_type": "markdown",
   "id": "fef43e72",
   "metadata": {},
   "source": [
    "### Now we can predict players' future percentile ranking based on data from the last 4 years."
   ]
  },
  {
   "cell_type": "markdown",
   "id": "711178ce",
   "metadata": {},
   "source": [
    "#### Prediction for failed transfers of the past"
   ]
  },
  {
   "cell_type": "code",
   "execution_count": 41,
   "id": "894c93f9",
   "metadata": {},
   "outputs": [
    {
     "name": "stdout",
     "output_type": "stream",
     "text": [
      "Last four years:  [[79.39946416 71.66619975 70.09111617 43.49641009]]\n",
      "Prediction for season with Dinamo Batumi:             [[38.91821194]]\n",
      "Last four years:  [[79.39946416 44.95377504 40.44419134 36.1245617 ]]\n",
      "Prediction for season with Dinamo Batumi:             [[34.85545279]]\n",
      "Last four years:  [[27.77559956 40.00560303 51.42748671 29.08665887]]\n",
      "Prediction for season with Dinamo Batumi:             [[25.15464842]]\n",
      "Last four years:  [[27.8234271  28.77164306 52.4715184  16.69280533]]\n",
      "Prediction for season with Dinamo Batumi:             [[11.70877219]]\n"
     ]
    }
   ],
   "source": [
    "# https://www.transfermarkt.com/godfrey-oboabona/profil/spieler/217656\n",
    "x_Oboabona = np.array([[percentileofscore(ages[25], 2500000), percentileofscore(ages[26], 1800000), percentileofscore(ages[27], 1800000), percentileofscore(ages[28], 650000)]])  \n",
    "print(\"Last four years: \", x_Oboabona)\n",
    "print(\"Prediction for season with Dinamo Batumi:            \", model.predict(x_Oboabona))\n",
    "\n",
    "# https://www.transfermarkt.com/abraham-frimpong/profil/spieler/189402\n",
    "x_Frimpong = np.array([[percentileofscore(ages[25], 2500000), percentileofscore(ages[26], 600000), percentileofscore(ages[27], 550000), percentileofscore(ages[28], 500000)]])  \n",
    "print(\"Last four years: \", x_Frimpong)\n",
    "print(\"Prediction for season with Dinamo Batumi:            \", model.predict(x_Frimpong))\n",
    "\n",
    "# https://www.transfermarkt.com/lukas-grozurek/profil/spieler/75829\n",
    "x_Grozurek = np.array([[percentileofscore(ages[25], 300000), percentileofscore(ages[26], 500000), percentileofscore(ages[27], 800000), percentileofscore(ages[28], 400000)]])  \n",
    "print(\"Last four years: \", x_Grozurek)\n",
    "print(\"Prediction for season with Dinamo Batumi:            \", model.predict(x_Grozurek))\n",
    "\n",
    "# https://www.transfermarkt.com/vamara-sanogo/profil/spieler/374667\n",
    "x_Sanogo = np.array([[percentileofscore(ages[22], 175000), percentileofscore(ages[23], 225000), percentileofscore(ages[24], 600000), percentileofscore(ages[25], 200000)]])  \n",
    "print(\"Last four years: \", x_Sanogo)\n",
    "print(\"Prediction for season with Dinamo Batumi:            \", model.predict(x_Sanogo))"
   ]
  },
  {
   "cell_type": "markdown",
   "id": "2238c394",
   "metadata": {},
   "source": [
    "#### Prediction for the new Dinamo Batumi player for the current season"
   ]
  },
  {
   "cell_type": "code",
   "execution_count": 43,
   "id": "abad43bd",
   "metadata": {},
   "outputs": [
    {
     "name": "stdout",
     "output_type": "stream",
     "text": [
      "Last four years:  [[90.88457767 84.22551253 75.75972616 60.63432836]]\n",
      "Prediction for season with Dinamo Batumi:             [[56.75379759]]\n"
     ]
    }
   ],
   "source": [
    "# https://www.transfermarkt.com/moussa-konate/profil/spieler/192774\n",
    "x_Konaté = np.array([[percentileofscore(ages[26], 7000000), percentileofscore(ages[27], 4000000), percentileofscore(ages[28], 2500000), percentileofscore(ages[29], 1200000)]])  \n",
    "print(\"Last four years: \", x_Konaté)\n",
    "print(\"Prediction for season with Dinamo Batumi:            \", model.predict(x_Konaté))"
   ]
  }
 ],
 "metadata": {
  "kernelspec": {
   "display_name": "Python 3 (ipykernel)",
   "language": "python",
   "name": "python3"
  },
  "language_info": {
   "codemirror_mode": {
    "name": "ipython",
    "version": 3
   },
   "file_extension": ".py",
   "mimetype": "text/x-python",
   "name": "python",
   "nbconvert_exporter": "python",
   "pygments_lexer": "ipython3",
   "version": "3.8.16"
  }
 },
 "nbformat": 4,
 "nbformat_minor": 5
}
